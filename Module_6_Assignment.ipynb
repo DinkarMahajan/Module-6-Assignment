{
  "nbformat": 4,
  "nbformat_minor": 0,
  "metadata": {
    "colab": {
      "provenance": []
    },
    "kernelspec": {
      "name": "python3",
      "display_name": "Python 3"
    },
    "language_info": {
      "name": "python"
    }
  },
  "cells": [
    {
      "cell_type": "markdown",
      "source": [
        "Files,exceptional handling,logging and memory management Questions"
      ],
      "metadata": {
        "id": "Pmmpg9XI_cW7"
      }
    },
    {
      "cell_type": "markdown",
      "source": [
        "1.) What is the difference between interpreted and compiled languages?\n",
        "\n",
        "\n",
        "Interpreted Languages: Code is executed line-by-line by an interpreter at runtime, making it slower but easier to test and platform-independent (e.g., Python, JavaScript).\n",
        "\n",
        "Compiled Languages: Code is translated into machine code by a compiler before execution, making it faster but less flexible and often platform-dependent (e.g., C, C++)."
      ],
      "metadata": {
        "id": "KD0lSDdT_qmI"
      }
    },
    {
      "cell_type": "markdown",
      "source": [
        "2.) What is exception handling in Python?\n",
        "\n",
        "Exception handling in Python is a mechanism to handle runtime errors gracefully without crashing the program.\n",
        "It uses the try-except blocks to catch and manage exceptions.\n",
        "\n",
        "try: Code that might raise an exception.\n",
        "\n",
        "except: Code to handle the exception.\n",
        "\n",
        "finally: (Optional) Code that always runs, whether an exception occurs or not."
      ],
      "metadata": {
        "id": "FTQTLymy_6ok"
      }
    },
    {
      "cell_type": "markdown",
      "source": [
        "3.)  What is the purpose of the finally block in exception handling?\n",
        "\n",
        "The finally block ensures code runs regardless of whether an exception occurs or not. It's used for cleanup tasks like closing files or releasing resources."
      ],
      "metadata": {
        "id": "edDyy1rYAMv6"
      }
    },
    {
      "cell_type": "markdown",
      "source": [
        "4.) What is logging in Python?\n",
        "\n",
        "Logging in Python is a way to record messages and events during program execution. It helps developers monitor, debug, and troubleshoot code by storing information like errors, warnings, or general messages in a file or console."
      ],
      "metadata": {
        "id": "CogUNR8EAmQk"
      }
    },
    {
      "cell_type": "markdown",
      "source": [
        "5.) What is the significance of the __del__ method in Python?\n",
        "\n",
        "The __del__ method in Python is a special method, also known as a destructor, which is called when an object is about to be destroyed. It allows you to define cleanup actions, such as releasing resources or closing files, when the object is garbage collected."
      ],
      "metadata": {
        "id": "KHD1678zt5oe"
      }
    },
    {
      "cell_type": "markdown",
      "source": [
        "6.) What is the difference between import and from ... import in Python?\n",
        "\n",
        "import: Brings in the entire module. Access content with module_name.function() (e.g., math.sqrt(16)).\n",
        "from ... import: Imports specific items directly into your code. Use them without the module prefix (e.g., sqrt(16))."
      ],
      "metadata": {
        "id": "lDfSk4tQuGht"
      }
    },
    {
      "cell_type": "markdown",
      "source": [
        "7.) How can you handle multiple exceptions in Python?\n",
        "\n",
        "In Python, handle multiple exceptions by:\n",
        "\n",
        "1.)Multiple except blocks:\n",
        "\n",
        "try:\n",
        "    num = int(\"abc\")\n",
        "except ValueError:\n",
        "    print(\"ValueError!\")\n",
        "except TypeError:\n",
        "    print(\"TypeError!\")\n",
        "  \n",
        "2.)Single except with a tuple:\n",
        "try:\n",
        "    num = int(\"abc\")\n",
        "except (ValueError, TypeError):\n",
        "    print(\"Error occurred!\")"
      ],
      "metadata": {
        "id": "3AvIN8RkuYe-"
      }
    },
    {
      "cell_type": "markdown",
      "source": [
        "8.) What is the purpose of the with statement when handling files in Python?\n",
        "\n",
        "The with statement ensures that a file is properly opened and closed automatically, even if an exception occurs. It simplifies resource management and eliminates the need for manual close() calls."
      ],
      "metadata": {
        "id": "c5Tyw1l2vBhL"
      }
    },
    {
      "cell_type": "markdown",
      "source": [
        "9.)  What is the difference between multithreading and multiprocessing?\n",
        "\n",
        "Multithreading: Multiple threads in a single process, best for I/O-bound tasks.\n",
        "\n",
        "Multiprocessing: Multiple processes with separate memory, best for CPU-bound tasks."
      ],
      "metadata": {
        "id": "5kEKXETQvR9p"
      }
    },
    {
      "cell_type": "markdown",
      "source": [
        "10.) What are the advantages of using logging in a program?\n",
        "\n",
        "Logging helps monitor, debug, and manage applications more effectively by providing a flexible, persistent, and non-intrusive mechanism to track events and errors."
      ],
      "metadata": {
        "id": "Bw3bE5MpvhVw"
      }
    },
    {
      "cell_type": "markdown",
      "source": [
        "11.) What is memory management in Python?\n",
        "\n",
        "Python automates memory management with dynamic allocation, reference counting, and garbage collection, simplifying resource handling for developers."
      ],
      "metadata": {
        "id": "duKidYjwvuPj"
      }
    },
    {
      "cell_type": "markdown",
      "source": [
        "12.) What are the basic steps involved in exception handling in Python?\n",
        "\n",
        "try: Attempt code execution.\n",
        "\n",
        "except: Catch and handle specific errors.\n",
        "\n",
        "else: Execute if no error occurs.\n",
        "\n",
        "finally: Execute regardless of errors (typically for cleanup)."
      ],
      "metadata": {
        "id": "ozYQ5vwtwC6T"
      }
    },
    {
      "cell_type": "markdown",
      "source": [
        "13.) Why is memory management important in Python?\n",
        "\n",
        "Memory management in Python is important to prevent memory leaks, optimize resource usage, and improve performance, while Python's garbage collection system automates these tasks for developers."
      ],
      "metadata": {
        "id": "j9D984jAwRKs"
      }
    },
    {
      "cell_type": "markdown",
      "source": [
        "14.) What is the role of try and except in exception handling?\n",
        "\n",
        "try: Executes potentially error-prone code.\n",
        "\n",
        "except: Catches and handles any exceptions that occur in the try block."
      ],
      "metadata": {
        "id": "jGZIXDWlwpqv"
      }
    },
    {
      "cell_type": "markdown",
      "source": [
        "15.)  How does Python's garbage collection system work?\n",
        "\n",
        "Python’s garbage collection system uses reference counting for most objects and cyclic garbage collection for handling circular references. This ensures automatic memory management and helps avoid memory leaks."
      ],
      "metadata": {
        "id": "iq9CxhTBw12G"
      }
    },
    {
      "cell_type": "markdown",
      "source": [
        "16.) What is the purpose of the else block in exception handling?\n",
        "\n",
        "The else block executes when the code in the try block runs without any exceptions, allowing for clean, organized handling of successful executions."
      ],
      "metadata": {
        "id": "eQ8H2y57xDIc"
      }
    },
    {
      "cell_type": "markdown",
      "source": [
        "17.) What are the common logging levels in Python?\n",
        "\n",
        "DEBUG: Detailed logs for debugging.\n",
        "\n",
        "INFO: General informational messages.\n",
        "\n",
        "WARNING: Potential issues that need attention.\n",
        "\n",
        "ERROR: Errors that prevent some operations.\n",
        "\n",
        "CRITICAL: Serious errors causing program failure."
      ],
      "metadata": {
        "id": "nDRC5l8NxQor"
      }
    },
    {
      "cell_type": "markdown",
      "source": [
        "18.) What is the difference between os.fork() and multiprocessing in Python?\n",
        "\n",
        "os.fork() is a low-level method to create processes and is Unix-specific, requiring manual management of process handling.\n",
        "\n",
        "multiprocessing is a high-level Python module providing easy-to-use and cross-platform functionality for parallel processing and inter-process communication."
      ],
      "metadata": {
        "id": "BEXSdvaFxjYW"
      }
    },
    {
      "cell_type": "markdown",
      "source": [
        "19.)  What is the importance of closing a file in Python?\n",
        "\n",
        "Closing a file ensures that system resources are freed, data is properly saved, and no conflicts occur. Using the with statement is a better approach to ensure files are always closed properly."
      ],
      "metadata": {
        "id": "0Woq68PKxy7_"
      }
    },
    {
      "cell_type": "markdown",
      "source": [
        "20.) What is the difference between file.read() and file.readline() in Python?\n",
        "\n",
        "file.read(): Reads the whole file at once, returns it as a string.\n",
        "\n",
        "file.readline(): Reads the next line each time it’s called, useful for line-by-line reading."
      ],
      "metadata": {
        "id": "vVevrtEsyALt"
      }
    },
    {
      "cell_type": "markdown",
      "source": [
        "21.) What is the logging module in Python used for?\n",
        "\n",
        "The logging module provides a structured way to record, view, and manage log messages, which is essential for debugging, monitoring, and maintaining large applications."
      ],
      "metadata": {
        "id": "FV_JauloyhvF"
      }
    },
    {
      "cell_type": "markdown",
      "source": [
        "22.) What is the os module in Python used for in file handling?\n",
        "\n",
        "The os module in Python is essential for performing low-level file handling tasks such as creating, deleting, moving, renaming files and directories, checking paths, and more, giving you control over how files and directories are managed in the operating system."
      ],
      "metadata": {
        "id": "IUiW0wAiyur5"
      }
    },
    {
      "cell_type": "markdown",
      "source": [
        "23.) What are the challenges associated with memory management in Python?\n",
        "\n",
        "Memory management in Python is automatic but comes with challenges like potential garbage collection overhead, difficulty managing cyclic references, memory leaks, and performance degradation due to inefficient memory handling in larger or multi-threaded applications. While Python hides much of the complexity, developers still need to be mindful of these factors for performance optimization."
      ],
      "metadata": {
        "id": "DSfLIkjqy97x"
      }
    },
    {
      "cell_type": "markdown",
      "source": [
        "24.)  How do you raise an exception manually in Python?\n",
        "\n",
        "To manually raise an exception in Python, use the raise keyword, followed by an exception type and an optional error message. You can raise both built-in and custom exceptions to handle error conditions as needed in your code."
      ],
      "metadata": {
        "id": "3JCsamStzL8x"
      }
    },
    {
      "cell_type": "markdown",
      "source": [
        "25.) Why is it important to use multithreading in certain applications?\n",
        "\n",
        "Using multithreading is important when you need to perform multiple tasks simultaneously, especially in I/O-bound, time-sensitive, or parallelizable tasks. It helps increase performance, maintain UI responsiveness, and make efficient use of system resources."
      ],
      "metadata": {
        "id": "DLUEyNtFzWY5"
      }
    },
    {
      "cell_type": "markdown",
      "source": [
        "Practical Questions"
      ],
      "metadata": {
        "id": "vNYr2gw3ziQP"
      }
    },
    {
      "cell_type": "markdown",
      "source": [
        "1.)  How can you open a file for writing in Python and write a string to it?"
      ],
      "metadata": {
        "id": "gcD6FKe7znUI"
      }
    },
    {
      "cell_type": "code",
      "source": [
        "with open(\"example.txt\", \"w\") as file:\n",
        "        file.write(\"Hello, this is a test string!\")"
      ],
      "metadata": {
        "id": "hrNjr31jzsce"
      },
      "execution_count": 1,
      "outputs": []
    },
    {
      "cell_type": "markdown",
      "source": [
        "2.) Write a Python program to read the contents of a file and print each line."
      ],
      "metadata": {
        "id": "4yZqFUslz8Bk"
      }
    },
    {
      "cell_type": "code",
      "source": [
        "with open(\"example.txt\", \"r\") as file:\n",
        "        for line in file:\n",
        "                print(line, end=\"\")"
      ],
      "metadata": {
        "colab": {
          "base_uri": "https://localhost:8080/"
        },
        "id": "PvrpHeCd0Awp",
        "outputId": "86d858a5-5511-44b9-96e4-846d2194b1ac"
      },
      "execution_count": 2,
      "outputs": [
        {
          "output_type": "stream",
          "name": "stdout",
          "text": [
            "Hello, this is a test string!"
          ]
        }
      ]
    },
    {
      "cell_type": "markdown",
      "source": [
        "3.) How would you handle a case where the file doesn't exist while trying to open it for reading?"
      ],
      "metadata": {
        "id": "dnCht9E_0OQk"
      }
    },
    {
      "cell_type": "code",
      "source": [
        "try:\n",
        "  with open(\"example.txt\", \"r\") as file:\n",
        "    for line in file:\n",
        "      print(line, end=\"\")\n",
        "except FileNotFoundError:\n",
        "  print(\"Error: The file 'example.txt' does not exist.\")\n"
      ],
      "metadata": {
        "colab": {
          "base_uri": "https://localhost:8080/"
        },
        "id": "pcMo5Wjy0YNA",
        "outputId": "0abfe0f1-bb32-48d3-cbf3-add3c8683e68"
      },
      "execution_count": 3,
      "outputs": [
        {
          "output_type": "stream",
          "name": "stdout",
          "text": [
            "Hello, this is a test string!"
          ]
        }
      ]
    },
    {
      "cell_type": "markdown",
      "source": [
        "4.) Write a Python script that reads from one file and writes its content to another file."
      ],
      "metadata": {
        "id": "SDfDIBcj0p67"
      }
    },
    {
      "cell_type": "code",
      "source": [
        "with open(\"source.txt\", \"r\") as source_file, open(\"destination.txt\", \"w\") as destination_file:\n",
        "        content = source_file.read()\n",
        "\n",
        "        destination_file.write(content)\n",
        "\n",
        "print(\"File content has been copied successfully.\")\n"
      ],
      "metadata": {
        "id": "wXJEVeGX0uVf"
      },
      "execution_count": null,
      "outputs": []
    },
    {
      "cell_type": "markdown",
      "source": [
        "5.) How would you catch and handle division by zero error in Python?"
      ],
      "metadata": {
        "id": "WcHiKylW1H5U"
      }
    },
    {
      "cell_type": "code",
      "source": [
        "try:\n",
        "  num1 = 10\n",
        "  num2 = 0\n",
        "  result = num1 / num2\n",
        "except ZeroDivisionError:\n",
        "  print(\"Error: Cannot divide by zero.\")\n",
        "else:\n",
        "  print(\"Result:\", result)\n"
      ],
      "metadata": {
        "colab": {
          "base_uri": "https://localhost:8080/"
        },
        "id": "91vp4eox1Xqj",
        "outputId": "8c6cbacc-11cb-4c57-9c19-b9da7a83ce8e"
      },
      "execution_count": 5,
      "outputs": [
        {
          "output_type": "stream",
          "name": "stdout",
          "text": [
            "Error: Cannot divide by zero.\n"
          ]
        }
      ]
    },
    {
      "cell_type": "markdown",
      "source": [
        "6.) Write a Python program that logs an error message to a log file when a division by zero exception occurs."
      ],
      "metadata": {
        "id": "28uxGn-l1rN-"
      }
    },
    {
      "cell_type": "code",
      "source": [
        "import logging\n",
        "logging.basicConfig(\n",
        "    filename=\"error_log.txt\",\n",
        "    level=logging.ERROR,\n",
        "    format=\"%(asctime)s - %(levelname)s - %(message)s\"\n",
        "    )\n",
        "\n",
        "try:\n",
        "  num1 = 10\n",
        "  num2 = 0\n",
        "  result = num1 / num2\n",
        "except ZeroDivisionError as e:\n",
        "  logging.error(f\"Division by zero error: {e}\")\n",
        "  print(\"Error: Cannot divide by zero. Details logged.\")"
      ],
      "metadata": {
        "colab": {
          "base_uri": "https://localhost:8080/"
        },
        "id": "827qkFan12fn",
        "outputId": "0a777a56-9d17-4739-af6b-9a0ccd4c57a1"
      },
      "execution_count": 6,
      "outputs": [
        {
          "output_type": "stream",
          "name": "stderr",
          "text": [
            "ERROR:root:Division by zero error: division by zero\n"
          ]
        },
        {
          "output_type": "stream",
          "name": "stdout",
          "text": [
            "Error: Cannot divide by zero. Details logged.\n"
          ]
        }
      ]
    },
    {
      "cell_type": "markdown",
      "source": [
        "7.) How do you log information at different levels (INFO, ERROR, WARNING) in Python using the logging module?"
      ],
      "metadata": {
        "id": "EJKo1zGz2R2g"
      }
    },
    {
      "cell_type": "code",
      "source": [
        "import logging\n",
        "logging.basicConfig(\n",
        "    filename='app_log.txt',\n",
        "    level=logging.DEBUG,\n",
        "    format=\"%(asctime)s - %(levelname)s - %(message)s\"\n",
        "\n",
        "logging.debug(\"This is a debug message.\")\n",
        "logging.info(\"This is an info message.\")\n",
        "logging.warning(\"This is a warning message.\")\n",
        "logging.error(\"This is an error message.\")\n",
        "logging.critical(\"This is a critical message.\")"
      ],
      "metadata": {
        "id": "cjvDjUxA2Ww6"
      },
      "execution_count": null,
      "outputs": []
    },
    {
      "cell_type": "markdown",
      "source": [
        "8.) Write a program to handle a file opening error using exception handling."
      ],
      "metadata": {
        "id": "3UBc8TLC20ZW"
      }
    },
    {
      "cell_type": "code",
      "source": [
        "try:\n",
        "  with open(\"non_existent_file.txt\", \"r\") as file:\n",
        "    content = file.read()\n",
        "    print(content)\n",
        "\n",
        "except FileNotFoundError:\n",
        "  print(\"Error: The file does not exist.\")\n",
        "except PermissionError:\n",
        "  print(\"Error: You do not have permission to read this file.\")\n",
        "except Exception as e:\n",
        "  print(f\"An unexpected error occurred: {e}\")\n"
      ],
      "metadata": {
        "colab": {
          "base_uri": "https://localhost:8080/"
        },
        "id": "p_GP1vqe25Qq",
        "outputId": "7ce7d268-51c0-4487-8846-1c68b31b89bc"
      },
      "execution_count": 8,
      "outputs": [
        {
          "output_type": "stream",
          "name": "stdout",
          "text": [
            "Error: The file does not exist.\n"
          ]
        }
      ]
    },
    {
      "cell_type": "markdown",
      "source": [
        "9.) How can you read a file line by line and store its content in a list in Python?"
      ],
      "metadata": {
        "id": "gtTm-mCA3V8R"
      }
    },
    {
      "cell_type": "code",
      "source": [
        "lines_list = []\n",
        "with open(\"example.txt\", \"r\") as file:\n",
        "    for line in file:\n",
        "      lines_list.append(line.strip())\n",
        "\n",
        "print(lines_list)\n"
      ],
      "metadata": {
        "colab": {
          "base_uri": "https://localhost:8080/"
        },
        "id": "xv3cxZge3boh",
        "outputId": "ae2a7e0e-4b94-42f1-93ef-457170f69a15"
      },
      "execution_count": 9,
      "outputs": [
        {
          "output_type": "stream",
          "name": "stdout",
          "text": [
            "['Hello, this is a test string!']\n"
          ]
        }
      ]
    },
    {
      "cell_type": "markdown",
      "source": [
        "10.) How can you append data to an existing file in Python?"
      ],
      "metadata": {
        "id": "JCqKGLy84NFd"
      }
    },
    {
      "cell_type": "code",
      "source": [
        "with open(\"example.txt\", \"a\") as file:\n",
        "  file.write(\"\\nThis is a new line added to the file.\")  # \\n adds a new line before appending\n",
        "\n",
        "print(\"Data has been appended to the file.\")\n"
      ],
      "metadata": {
        "colab": {
          "base_uri": "https://localhost:8080/"
        },
        "id": "14D3xJBA4SUu",
        "outputId": "89847dd1-e0fc-4c7a-cb8e-bdc7d8a679d9"
      },
      "execution_count": 10,
      "outputs": [
        {
          "output_type": "stream",
          "name": "stdout",
          "text": [
            "Data has been appended to the file.\n"
          ]
        }
      ]
    },
    {
      "cell_type": "markdown",
      "source": [
        "11.) Write a Python program that uses a try-except block to handle an error when attempting to access a\n",
        "dictionary key that doesn't exist."
      ],
      "metadata": {
        "id": "gilNP11H4ivw"
      }
    },
    {
      "cell_type": "code",
      "source": [
        "my_dict = {\n",
        "    \"name\": \"Alice\",\n",
        "    \"age\": 30,\n",
        "    \"city\": \"New York\"\n",
        "    }\n",
        "\n",
        "try:\n",
        "  value = my_dict[\"country\"]\n",
        "except KeyError:\n",
        "  print(\"Error: The key 'country' does not exist in the dictionary.\")\n",
        "else:\n",
        "  print(f\"The value of 'country' is: {value}\")"
      ],
      "metadata": {
        "colab": {
          "base_uri": "https://localhost:8080/"
        },
        "id": "yBcQ3AdJ4mQy",
        "outputId": "2ad17033-3f5e-492a-e947-3bea4c80eb82"
      },
      "execution_count": 12,
      "outputs": [
        {
          "output_type": "stream",
          "name": "stdout",
          "text": [
            "Error: The key 'country' does not exist in the dictionary.\n"
          ]
        }
      ]
    },
    {
      "cell_type": "markdown",
      "source": [
        "12.) Write a program that demonstrates using multiple except blocks to handle different types of exceptions."
      ],
      "metadata": {
        "id": "TYNZYgJW5Lys"
      }
    },
    {
      "cell_type": "code",
      "source": [
        "try:\n",
        "  num1 = 10\n",
        "  num2 = 0\n",
        "  result = num1 / num2\n",
        "\n",
        "  my_dict = {\"name\": \"Alice\", \"age\": 30}\n",
        "  print(my_dict['address'])\n",
        "\n",
        "  with open('non_existent_file.txt', 'r') as file:\n",
        "    content = file.read()\n",
        "\n",
        "except ZeroDivisionError as e:\n",
        "  print(f\"Error: Division by zero occurred. {e}\")\n",
        "\n",
        "except KeyError as e:\n",
        "  print(f\"Error: The key was not found in the dictionary. {e}\")\n",
        "\n",
        "except FileNotFoundError as e:\n",
        "  print(f\"Error: The file could not be found. {e}\")\n",
        "\n",
        "except Exception as e:\n",
        "  print(f\"An unexpected error occurred: {e}\")"
      ],
      "metadata": {
        "colab": {
          "base_uri": "https://localhost:8080/"
        },
        "id": "gBUgTEA85RWU",
        "outputId": "f41635c7-a48b-4df0-9555-d56f9c7ad788"
      },
      "execution_count": 13,
      "outputs": [
        {
          "output_type": "stream",
          "name": "stdout",
          "text": [
            "Error: Division by zero occurred. division by zero\n"
          ]
        }
      ]
    },
    {
      "cell_type": "markdown",
      "source": [
        "13.)  How would you check if a file exists before attempting to read it in Python?"
      ],
      "metadata": {
        "id": "RIdLH7iT6DyH"
      }
    },
    {
      "cell_type": "code",
      "source": [
        "import os\n",
        "\n",
        "file_path = \"example.txt\"\n",
        "\n",
        "if os.path.exists(file_path):\n",
        "  with open(file_path, \"r\") as file:\n",
        "    content = file.read()\n",
        "    print(content)\n",
        "else:\n",
        "  print(f\"The file '{file_path}' does not exist.\")\n"
      ],
      "metadata": {
        "colab": {
          "base_uri": "https://localhost:8080/"
        },
        "id": "fPYvRG-76JBv",
        "outputId": "d4adf983-ea6f-493b-edef-f483f21ee4b2"
      },
      "execution_count": 14,
      "outputs": [
        {
          "output_type": "stream",
          "name": "stdout",
          "text": [
            "Hello, this is a test string!\n",
            "This is a new line added to the file.\n"
          ]
        }
      ]
    },
    {
      "cell_type": "markdown",
      "source": [
        "14.) Write a program that uses the logging module to log both informational and error messages."
      ],
      "metadata": {
        "id": "-_lP_Lny6fju"
      }
    },
    {
      "cell_type": "code",
      "source": [
        "import logging\n",
        "\n",
        "logging.basicConfig(\n",
        "    filename='app_log.txt',\n",
        "    level=logging.DEBUG,\n",
        "    format='%(asctime)s - %(levelname)s - %(message)s'\n",
        "    )\n",
        "\n",
        "logging.info(\"Program started successfully.\")\n",
        "\n",
        "try:\n",
        "  num1 = 10\n",
        "  num2 = 0\n",
        "  result = num1 / num2\n",
        "except ZeroDivisionError as e:\n",
        "  logging.error(f\"Error occurred: {e}\")\n",
        "  logging.info(\"Program finished running.\")"
      ],
      "metadata": {
        "colab": {
          "base_uri": "https://localhost:8080/"
        },
        "id": "mTx483uJ6j5s",
        "outputId": "fda30086-71b7-4f6a-9604-f81bd7702ee2"
      },
      "execution_count": 15,
      "outputs": [
        {
          "output_type": "stream",
          "name": "stderr",
          "text": [
            "ERROR:root:Error occurred: division by zero\n"
          ]
        }
      ]
    },
    {
      "cell_type": "markdown",
      "source": [
        "15.) Write a Python program that prints the content of a file and handles the case when the file is empty."
      ],
      "metadata": {
        "id": "ei3GBzCp7Ev2"
      }
    },
    {
      "cell_type": "code",
      "source": [
        "try:\n",
        "  with open(\"example.txt\", \"r\") as file:\n",
        "    content = file.read()\n",
        "    if not content:\n",
        "      print(\"The file is empty.\")\n",
        "    else:\n",
        "      print(\"File Content:\")\n",
        "      print(content)\n",
        "\n",
        "except FileNotFoundError:\n",
        "  print(\"Error: The file does not exist.\")\n",
        "\n",
        "except Exception as e:\n",
        "  print(f\"An unexpected error occurred: {e}\")"
      ],
      "metadata": {
        "colab": {
          "base_uri": "https://localhost:8080/"
        },
        "id": "iDEVL2WS7MYL",
        "outputId": "e8d5e870-6d2c-4b59-df19-b00b61aa1b87"
      },
      "execution_count": 16,
      "outputs": [
        {
          "output_type": "stream",
          "name": "stdout",
          "text": [
            "File Content:\n",
            "Hello, this is a test string!\n",
            "This is a new line added to the file.\n"
          ]
        }
      ]
    },
    {
      "cell_type": "markdown",
      "source": [
        "16.)  Demonstrate how to use memory profiling to check the memory usage of a small program."
      ],
      "metadata": {
        "id": "iTSyULlY7rkI"
      }
    },
    {
      "cell_type": "code",
      "source": [
        "try:\n",
        "  with open(\"example.txt\", \"r\") as file:\n",
        "    content = file.read()\n",
        "    if not content:\n",
        "      print(\"The file is empty.\")\n",
        "    else:\n",
        "      print(\"File Content:\")\n",
        "      print(content)\n",
        "\n",
        "except FileNotFoundError:\n",
        "  print(\"Error: The file does not exist.\")\n",
        "\n",
        "except Exception as e:\n",
        "  print(f\"An unexpected error occurred: {e}\")"
      ],
      "metadata": {
        "colab": {
          "base_uri": "https://localhost:8080/"
        },
        "id": "BMapArJ976kj",
        "outputId": "febe45b3-e770-4d97-e93a-122bf1fb4164"
      },
      "execution_count": 17,
      "outputs": [
        {
          "output_type": "stream",
          "name": "stdout",
          "text": [
            "File Content:\n",
            "Hello, this is a test string!\n",
            "This is a new line added to the file.\n"
          ]
        }
      ]
    },
    {
      "cell_type": "markdown",
      "source": [
        "17.) Write a Python program to create and write a list of numbers to a file, one number per line?"
      ],
      "metadata": {
        "id": "OmT_1aay8kFZ"
      }
    },
    {
      "cell_type": "code",
      "source": [
        "numbers = [1, 2, 3, 4, 5, 6, 7, 8, 9, 10]\n",
        "\n",
        "with open(\"numbers.txt\", \"w\") as file:\n",
        "  for number in numbers:\n",
        "    file.write(f\"{number}\\n\")\n",
        "\n",
        "print(\"Numbers have been written to the file.\")"
      ],
      "metadata": {
        "colab": {
          "base_uri": "https://localhost:8080/"
        },
        "id": "_3M4otMQ8pit",
        "outputId": "7f8e09de-23b9-49b3-870b-b2c80e00db14"
      },
      "execution_count": 18,
      "outputs": [
        {
          "output_type": "stream",
          "name": "stdout",
          "text": [
            "Numbers have been written to the file.\n"
          ]
        }
      ]
    },
    {
      "cell_type": "markdown",
      "source": [
        "18.) How would you implement a basic logging setup that logs to a file with rotation after 1MB?"
      ],
      "metadata": {
        "id": "byTNQXpt84ae"
      }
    },
    {
      "cell_type": "code",
      "source": [
        "import logging\n",
        "from logging.handlers import RotatingFileHandler\n",
        "\n",
        "log_handler = RotatingFileHandler(\"app.log\", maxBytes=1*1024*1024, backupCount=3)\n",
        "log_handler.setLevel(logging.DEBUG)\n",
        "\n",
        "formatter = logging.Formatter('%(asctime)s - %(levelname)s - %(message)s')\n",
        "log_handler.setFormatter(formatter)\n",
        "\n",
        "logger = logging.getLogger()\n",
        "logger.setLevel(logging.DEBUG)\n",
        "logger.addHandler(log_handler)\n",
        "\n",
        "logger.debug(\"This is a debug message.\")\n",
        "logger.info(\"This is an info message.\")\n",
        "logger.warning(\"This is a warning message.\")\n",
        "logger.error(\"This is an error message.\")\n",
        "logger.critical(\"This is a critical message.\")\n",
        "\n",
        "print(\"Logs are being written to the app.log file with rotation after 1MB.\")\n"
      ],
      "metadata": {
        "colab": {
          "base_uri": "https://localhost:8080/"
        },
        "id": "CzrMMZAQ89T1",
        "outputId": "aedae3b1-c417-45a4-87fc-d23273acac19"
      },
      "execution_count": 19,
      "outputs": [
        {
          "output_type": "stream",
          "name": "stderr",
          "text": [
            "DEBUG:root:This is a debug message.\n",
            "INFO:root:This is an info message.\n",
            "WARNING:root:This is a warning message.\n",
            "ERROR:root:This is an error message.\n",
            "CRITICAL:root:This is a critical message.\n"
          ]
        },
        {
          "output_type": "stream",
          "name": "stdout",
          "text": [
            "Logs are being written to the app.log file with rotation after 1MB.\n"
          ]
        }
      ]
    },
    {
      "cell_type": "markdown",
      "source": [
        "19.) Write a program that handles both IndexError and KeyError using a try-except block."
      ],
      "metadata": {
        "id": "Qx4IpdhT9LPq"
      }
    },
    {
      "cell_type": "code",
      "source": [
        "try:\n",
        "  my_list = [1, 2, 3]\n",
        "  print(my_list[5])\n",
        "  my_dict = {\"name\": \"Alice\", \"age\": 30}\n",
        "  print(my_dict[\"address\"])\n",
        "\n",
        "except IndexError as e:\n",
        "  print(f\"IndexError: {e} - You tried to access an index that doesn't exist in the list.\")\n",
        "\n",
        "except KeyError as e:\n",
        "  print(f\"KeyError: {e} - You tried to access a key that doesn't exist in the dictionary.\")\n",
        "\n"
      ],
      "metadata": {
        "colab": {
          "base_uri": "https://localhost:8080/"
        },
        "id": "U-0IlIiP9Rq4",
        "outputId": "3a71d87b-17ee-4c4d-9ec2-382ceda3fec9"
      },
      "execution_count": 20,
      "outputs": [
        {
          "output_type": "stream",
          "name": "stdout",
          "text": [
            "IndexError: list index out of range - You tried to access an index that doesn't exist in the list.\n"
          ]
        }
      ]
    },
    {
      "cell_type": "markdown",
      "source": [
        "20.) How would you open a file and read its contents using a context manager in Python?"
      ],
      "metadata": {
        "id": "ukRUapFS9j4Z"
      }
    },
    {
      "cell_type": "code",
      "source": [
        "with open(\"example.txt\", \"r\") as file:\n",
        "  content = file.read()\n",
        "  print(content)"
      ],
      "metadata": {
        "colab": {
          "base_uri": "https://localhost:8080/"
        },
        "id": "f0T4gizW9pBI",
        "outputId": "3446ffb4-71bb-439d-8390-0c0f429da169"
      },
      "execution_count": 21,
      "outputs": [
        {
          "output_type": "stream",
          "name": "stdout",
          "text": [
            "Hello, this is a test string!\n",
            "This is a new line added to the file.\n"
          ]
        }
      ]
    },
    {
      "cell_type": "markdown",
      "source": [
        "21.) Write a Python program that reads a file and prints the number of occurrences of a specific word."
      ],
      "metadata": {
        "id": "UauS_rpi90qC"
      }
    },
    {
      "cell_type": "code",
      "source": [
        "def count_word_occurrences(file_name, word_to_find):\n",
        "      try:\n",
        "        with open(file_name, 'r') as file:\n",
        "          content = file.read()\n",
        "          word_count = content.lower().split().count(word_to_find.lower())\n",
        "          return word_count\n",
        "      except FileNotFoundError:\n",
        "        print(f\"Error: The file {file_name} does not exist.\")\n",
        "        return 0\n",
        "file_name = \"example.txt\"\n",
        "word_to_find = \"python\"\n",
        "\n",
        "occurrences = count_word_occurrences(file_name, word_to_find)\n",
        "print(f\"The word '{word_to_find}' appeared {occurrences} times in the file.\")\n"
      ],
      "metadata": {
        "colab": {
          "base_uri": "https://localhost:8080/"
        },
        "id": "6QpG7tR595Ob",
        "outputId": "77174fbe-49db-4b24-fe38-48da31f30a21"
      },
      "execution_count": 25,
      "outputs": [
        {
          "output_type": "stream",
          "name": "stdout",
          "text": [
            "The word 'python' appeared 0 times in the file.\n"
          ]
        }
      ]
    },
    {
      "cell_type": "markdown",
      "source": [
        "22.) How can you check if a file is empty before attempting to read its contents?"
      ],
      "metadata": {
        "id": "uFgz9COx-2ZQ"
      }
    },
    {
      "cell_type": "code",
      "source": [
        "import os\n",
        "\n",
        "def is_file_empty(file_name):\n",
        "  if os.path.exists(file_name) and os.path.getsize(file_name) > 0:\n",
        "    return False\n",
        "  return True\n",
        "\n",
        "def read_file(file_name):\n",
        "  if is_file_empty(file_name):\n",
        "    print(f\"The file {file_name} is empty.\")\n",
        "  else:\n",
        "    try:\n",
        "      with open(file_name, 'r') as file:\n",
        "        content = file.read()\n",
        "        print(content)\n",
        "    except FileNotFoundError:\n",
        "      print(f\"Error: The file {file_name} does not exist.\")\n",
        "\n",
        "file_name = \"example.txt\"\n",
        "read_file(file_name)"
      ],
      "metadata": {
        "colab": {
          "base_uri": "https://localhost:8080/"
        },
        "id": "6Ju2StHq-84c",
        "outputId": "ec0db4a8-fd45-491e-c32e-b5a9795ed47b"
      },
      "execution_count": 26,
      "outputs": [
        {
          "output_type": "stream",
          "name": "stdout",
          "text": [
            "Hello, this is a test string!\n",
            "This is a new line added to the file.\n"
          ]
        }
      ]
    },
    {
      "cell_type": "markdown",
      "source": [
        "23.) Write a Python program that writes to a log file when an error occurs during file handling."
      ],
      "metadata": {
        "id": "TdjG7q7l_imb"
      }
    },
    {
      "cell_type": "code",
      "source": [
        "import logging\n",
        "\n",
        "logging.basicConfig(\n",
        "    filename='file_handling.log',  # Log file where errors will be logged\n",
        "    level=logging.ERROR,           # Log only errors (or above)\n",
        "    format='%(asctime)s - %(levelname)s - %(message)s'\n",
        "    )\n",
        "\n",
        "def read_file(file_name):\n",
        "  try:\n",
        "     with open(file_name, 'r') as file:\n",
        "      content = file.read()\n",
        "      print(content)\n",
        "  except FileNotFoundError as e:\n",
        "    logging.error(f\"FileNotFoundError: {e} - Unable to find the file: {file_name}\")\n",
        "    print(f\"Error: {e} - Unable to find the file.\")\n",
        "  except PermissionError as e:\n",
        "    logging.error(f\"PermissionError: {e} - Permission denied to access the file: {file_name}\")\n",
        "    print(f\"Error: {e} - Permission denied to access the file.\")\n",
        "  except Exception as e:\n",
        "    print(f\"Unexpected error: {e}\")\n",
        "\n",
        "def write_to_file(file_name, data):\n",
        "  try:\n",
        "    with open(file_name, 'w') as file:\n",
        "      file.write(data)\n",
        "      print(f\"Data written to {file_name}.\")\n",
        "  except PermissionError as e:\n",
        "    logging.error(f\"Unexpected error: {e} occurred while writing to the file: {file_name}\")\n",
        "    print(f\"Unexpected error: {e}\")\n",
        "\n",
        "read_file(\"example.txt\")\n",
        "write_to_file(\"example.txt\", \"This is a sample data for the file.\")\n"
      ],
      "metadata": {
        "colab": {
          "base_uri": "https://localhost:8080/"
        },
        "id": "jZqYOIxo_nT9",
        "outputId": "3b1ca427-0cc7-437c-f548-855dd1b098e1"
      },
      "execution_count": 28,
      "outputs": [
        {
          "output_type": "stream",
          "name": "stdout",
          "text": [
            "Hello, this is a test string!\n",
            "This is a new line added to the file.\n",
            "Data written to example.txt.\n"
          ]
        }
      ]
    }
  ]
}